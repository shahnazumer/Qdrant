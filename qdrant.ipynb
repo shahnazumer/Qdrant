{
  "cells": [
    {
      "cell_type": "markdown",
      "metadata": {
        "id": "view-in-github",
        "colab_type": "text"
      },
      "source": [
        "<a href=\"https://colab.research.google.com/github/shahnazumer/Qdrant/blob/main/qdrant.ipynb\" target=\"_parent\"><img src=\"https://colab.research.google.com/assets/colab-badge.svg\" alt=\"Open In Colab\"/></a>"
      ]
    },
    {
      "cell_type": "code",
      "execution_count": null,
      "metadata": {
        "id": "XHysDYjI6Y0i"
      },
      "outputs": [],
      "source": [
        "!pip install langchain qdrant_client openai tiktoken"
      ]
    },
    {
      "cell_type": "code",
      "execution_count": null,
      "metadata": {
        "id": "tJEyocsg8KOM"
      },
      "outputs": [],
      "source": [
        "from langchain.vectorstores import Qdrant\n",
        "from langchain.embeddings.openai import OpenAIEmbeddings\n",
        "import qdrant_client\n",
        "import os"
      ]
    },
    {
      "cell_type": "code",
      "execution_count": null,
      "metadata": {
        "id": "4M0Uu_bG9HIA"
      },
      "outputs": [],
      "source": [
        "# create qdrant client\n",
        "\n",
        "os.environ['QDRANT_HOST']\n",
        "os.environ[\"QDRANT_API_KEY\"]\n",
        "\n",
        "client = qdrant_client.QdrantClient(\n",
        "    os.getenv(\"QDRANT_HOST\"),\n",
        "    api_key=os.getenv(\"QDRANT_API_KEY\")\n",
        ")"
      ]
    },
    {
      "cell_type": "code",
      "execution_count": null,
      "metadata": {
        "colab": {
          "base_uri": "https://localhost:8080/"
        },
        "id": "tLRGv-VE-oKz",
        "outputId": "cf737f37-8f93-491f-9aef-106a2638cf62"
      },
      "outputs": [
        {
          "output_type": "execute_result",
          "data": {
            "text/plain": [
              "True"
            ]
          },
          "metadata": {},
          "execution_count": 8
        }
      ],
      "source": [
        "# create collection\n",
        "\n",
        "os.environ[\"QDRANT_COLLECTION_NAME\"]\n",
        "\n",
        "vectors_config = qdrant_client.http.models.VectorParams(\n",
        "    size=1536, # 768 for instructor-xl, 1536 for OpenAI\n",
        "    distance=qdrant_client.http.models.Distance.COSINE\n",
        "  )\n",
        "\n",
        "client.create_collection(\n",
        "    collection_name=os.getenv(\"QDRANT_COLLECTION_NAME\"),\n",
        "    vectors_config=vectors_config,\n",
        ")"
      ]
    },
    {
      "cell_type": "code",
      "execution_count": null,
      "metadata": {
        "id": "OwZvN-GvIjQO"
      },
      "outputs": [],
      "source": [
        "# create vector store\n",
        "\n",
        "os.environ[\"OPENAI_API_KEY\"]\n",
        "\n",
        "embeddings = OpenAIEmbeddings()\n",
        "\n",
        "vector_store = Qdrant(\n",
        "    client=client,\n",
        "    collection_name=os.getenv(\"QDRANT_COLLECTION_NAME\"),\n",
        "    embeddings=embeddings,\n",
        ")"
      ]
    },
    {
      "cell_type": "code",
      "execution_count": null,
      "metadata": {
        "colab": {
          "base_uri": "https://localhost:8080/"
        },
        "id": "GYLWfapzPt6G",
        "outputId": "20ecfefb-9426-4442-d0bd-b4a33d669b5c"
      },
      "outputs": [
        {
          "output_type": "execute_result",
          "data": {
            "text/plain": [
              "['e6fd86a8d88e4154b2055d8d72b5fa16', 'ac0289e0edcb431a9c3f7349865079b2']"
            ]
          },
          "metadata": {},
          "execution_count": 13
        }
      ],
      "source": [
        "# add document to vector store\n",
        "\n",
        "from langchain.text_splitter import CharacterTextSplitter\n",
        "\n",
        "def get_chunks(text):\n",
        "  text_splitter = CharacterTextSplitter(\n",
        "      separator=\"\\n\",\n",
        "      chunk_size=1000,\n",
        "      chunk_overlap=200,\n",
        "      length_function=len\n",
        "  )\n",
        "\n",
        "  chunks = text_splitter.split_text(text)\n",
        "  return chunks\n",
        "\n",
        "with open('story.txt') as f:\n",
        "  raw_text = f.read()\n",
        "\n",
        "texts = get_chunks(raw_text)\n",
        "\n",
        "vector_store.add_texts(texts)"
      ]
    },
    {
      "cell_type": "code",
      "execution_count": null,
      "metadata": {
        "id": "36OolUJwBYEo"
      },
      "outputs": [],
      "source": [
        "from langchain.schema import retriever\n",
        "#plug vector store into retrieval chain\n",
        "\n",
        "from langchain.chains import RetrievalQA\n",
        "from langchain.llms import OpenAI\n",
        "\n",
        "qa = RetrievalQA.from_chain_type(\n",
        "    llm=OpenAI(),\n",
        "    chain_type=\"stuff\",  # Positional argument before keyword argument\n",
        "    retriever=vector_store.as_retriever()\n",
        ")"
      ]
    },
    {
      "cell_type": "code",
      "source": [
        "query = \"What is Dream of the Red Chamber known as?\"\n",
        "response = qa.run(query)\n",
        "\n",
        "print(response)"
      ],
      "metadata": {
        "colab": {
          "base_uri": "https://localhost:8080/"
        },
        "id": "SaU3uJsq8PDo",
        "outputId": "d694ce05-ebb9-4f6d-9705-4d5e817212ca"
      },
      "execution_count": null,
      "outputs": [
        {
          "output_type": "stream",
          "name": "stdout",
          "text": [
            " Dream of the Red Chamber is also known as \"The Story of the Stone.\"\n"
          ]
        }
      ]
    },
    {
      "cell_type": "code",
      "source": [],
      "metadata": {
        "id": "DAq9-Orx-7b_"
      },
      "execution_count": null,
      "outputs": []
    }
  ],
  "metadata": {
    "colab": {
      "provenance": [],
      "authorship_tag": "ABX9TyN21g7lltrdvyRJ8y/Xz699",
      "include_colab_link": true
    },
    "kernelspec": {
      "display_name": "Python 3",
      "name": "python3"
    },
    "language_info": {
      "name": "python"
    }
  },
  "nbformat": 4,
  "nbformat_minor": 0
}